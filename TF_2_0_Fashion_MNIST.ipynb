{
  "nbformat": 4,
  "nbformat_minor": 0,
  "metadata": {
    "colab": {
      "name": "TF 2.0 Fashion MNIST.ipynb",
      "provenance": [],
      "authorship_tag": "ABX9TyPz9sixNwjbgE9gAmGpxBQE",
      "include_colab_link": true
    },
    "kernelspec": {
      "name": "python3",
      "display_name": "Python 3"
    }
  },
  "cells": [
    {
      "cell_type": "markdown",
      "metadata": {
        "id": "view-in-github",
        "colab_type": "text"
      },
      "source": [
        "<a href=\"https://colab.research.google.com/github/RenzoAlvaroshan/Tensorflow-Tutorial/blob/master/TF_2_0_Fashion_MNIST.ipynb\" target=\"_parent\"><img src=\"https://colab.research.google.com/assets/colab-badge.svg\" alt=\"Open In Colab\"/></a>"
      ]
    },
    {
      "cell_type": "code",
      "metadata": {
        "id": "OkE5apwRumIl",
        "colab_type": "code",
        "outputId": "bccb5e1d-2fdb-4c1e-914b-dd32210c40ba",
        "colab": {
          "base_uri": "https://localhost:8080/",
          "height": 34
        }
      },
      "source": [
        "import tensorflow as tf\n",
        "print(tf.__version__)"
      ],
      "execution_count": 0,
      "outputs": [
        {
          "output_type": "stream",
          "text": [
            "2.2.0\n"
          ],
          "name": "stdout"
        }
      ]
    },
    {
      "cell_type": "code",
      "metadata": {
        "id": "vSZssNJuf2gt",
        "colab_type": "code",
        "colab": {}
      },
      "source": [
        "import numpy as np\n",
        "import matplotlib.pyplot as plt\n",
        "from tensorflow.keras.layers import Input, Conv2D, Dense, Flatten, Dropout\n",
        "from tensorflow.keras.models import Model"
      ],
      "execution_count": 0,
      "outputs": []
    },
    {
      "cell_type": "code",
      "metadata": {
        "id": "K5mWOFRXgRqY",
        "colab_type": "code",
        "outputId": "7796af8a-b964-4fe7-8b0d-99b81ee30b7a",
        "colab": {
          "base_uri": "https://localhost:8080/",
          "height": 34
        }
      },
      "source": [
        "fashion_mnist = tf.keras.datasets.fashion_mnist\n",
        "(x_train, y_train), (x_test, y_test) = fashion_mnist.load_data()\n",
        "x_train, x_test = x_train / 255.0, x_test / 255.0\n",
        "print(\"x_train.shape:\", x_train.shape)"
      ],
      "execution_count": 0,
      "outputs": [
        {
          "output_type": "stream",
          "text": [
            "x_train.shape: (60000, 28, 28)\n"
          ],
          "name": "stdout"
        }
      ]
    },
    {
      "cell_type": "code",
      "metadata": {
        "id": "q4MlbuLwg1-B",
        "colab_type": "code",
        "outputId": "c26e5866-d742-4b5c-9269-b43904928251",
        "colab": {
          "base_uri": "https://localhost:8080/",
          "height": 34
        }
      },
      "source": [
        "x_train = np.expand_dims(x_train, -1)\n",
        "x_test = np.expand_dims(x_test, -1)\n",
        "print(x_train.shape)"
      ],
      "execution_count": 0,
      "outputs": [
        {
          "output_type": "stream",
          "text": [
            "(60000, 28, 28, 1)\n"
          ],
          "name": "stdout"
        }
      ]
    },
    {
      "cell_type": "code",
      "metadata": {
        "id": "lT3ierYIhTHR",
        "colab_type": "code",
        "outputId": "f97235ac-6128-4fb2-f532-d0dd698e36fe",
        "colab": {
          "base_uri": "https://localhost:8080/",
          "height": 34
        }
      },
      "source": [
        "K = len(set(y_train))\n",
        "print(\"number of classes:\", K)"
      ],
      "execution_count": 0,
      "outputs": [
        {
          "output_type": "stream",
          "text": [
            "number of classes: 10\n"
          ],
          "name": "stdout"
        }
      ]
    },
    {
      "cell_type": "code",
      "metadata": {
        "id": "jUOfJcV1hudh",
        "colab_type": "code",
        "colab": {}
      },
      "source": [
        "i = Input(shape=x_train[0].shape)\n",
        "x = Conv2D(32, (3,3), strides=2, activation='relu')(i)\n",
        "x = Conv2D(64, (3,3), strides=2, activation='relu')(x)\n",
        "x = Conv2D(128, (3,3), strides=2, activation='relu')(x)\n",
        "x = Flatten()(x)\n",
        "x = Dropout(0.2)(x)\n",
        "x = Dense(512, activation='relu')(x)\n",
        "x = Dropout(0.2)(x)\n",
        "x = Dense(K, activation='softmax')(x)\n",
        "\n",
        "model = Model(i, x)"
      ],
      "execution_count": 0,
      "outputs": []
    },
    {
      "cell_type": "code",
      "metadata": {
        "id": "qGENNUbFjCVp",
        "colab_type": "code",
        "outputId": "478bae27-34a0-4f1f-b791-691a185eca90",
        "colab": {
          "base_uri": "https://localhost:8080/",
          "height": 541
        }
      },
      "source": [
        "model.compile(optimizer='adam',\n",
        "              loss='sparse_categorical_crossentropy',\n",
        "              metrics=['accuracy'])\n",
        "r = model.fit(x_train, y_train, validation_data=(x_test, y_test), epochs=15)"
      ],
      "execution_count": 0,
      "outputs": [
        {
          "output_type": "stream",
          "text": [
            "Epoch 1/15\n",
            "1875/1875 [==============================] - 20s 11ms/step - loss: 0.5241 - accuracy: 0.8054 - val_loss: 0.4013 - val_accuracy: 0.8478\n",
            "Epoch 2/15\n",
            "1875/1875 [==============================] - 20s 11ms/step - loss: 0.3646 - accuracy: 0.8629 - val_loss: 0.3435 - val_accuracy: 0.8735\n",
            "Epoch 3/15\n",
            "1875/1875 [==============================] - 20s 11ms/step - loss: 0.3155 - accuracy: 0.8812 - val_loss: 0.3340 - val_accuracy: 0.8752\n",
            "Epoch 4/15\n",
            "1875/1875 [==============================] - 20s 11ms/step - loss: 0.2794 - accuracy: 0.8964 - val_loss: 0.3118 - val_accuracy: 0.8886\n",
            "Epoch 5/15\n",
            "1875/1875 [==============================] - 19s 10ms/step - loss: 0.2542 - accuracy: 0.9032 - val_loss: 0.3081 - val_accuracy: 0.8874\n",
            "Epoch 6/15\n",
            "1875/1875 [==============================] - 19s 10ms/step - loss: 0.2326 - accuracy: 0.9122 - val_loss: 0.2953 - val_accuracy: 0.8965\n",
            "Epoch 7/15\n",
            "1875/1875 [==============================] - 19s 10ms/step - loss: 0.2116 - accuracy: 0.9191 - val_loss: 0.3077 - val_accuracy: 0.8948\n",
            "Epoch 8/15\n",
            "1875/1875 [==============================] - 19s 10ms/step - loss: 0.1984 - accuracy: 0.9248 - val_loss: 0.2935 - val_accuracy: 0.8997\n",
            "Epoch 9/15\n",
            "1875/1875 [==============================] - 19s 10ms/step - loss: 0.1836 - accuracy: 0.9306 - val_loss: 0.3093 - val_accuracy: 0.8952\n",
            "Epoch 10/15\n",
            "1875/1875 [==============================] - 20s 11ms/step - loss: 0.1720 - accuracy: 0.9337 - val_loss: 0.3118 - val_accuracy: 0.8997\n",
            "Epoch 11/15\n",
            "1875/1875 [==============================] - 20s 10ms/step - loss: 0.1610 - accuracy: 0.9391 - val_loss: 0.3115 - val_accuracy: 0.9020\n",
            "Epoch 12/15\n",
            "1875/1875 [==============================] - 19s 10ms/step - loss: 0.1484 - accuracy: 0.9423 - val_loss: 0.3292 - val_accuracy: 0.9011\n",
            "Epoch 13/15\n",
            "1875/1875 [==============================] - 19s 10ms/step - loss: 0.1415 - accuracy: 0.9461 - val_loss: 0.3282 - val_accuracy: 0.9026\n",
            "Epoch 14/15\n",
            "1875/1875 [==============================] - 19s 10ms/step - loss: 0.1326 - accuracy: 0.9491 - val_loss: 0.3808 - val_accuracy: 0.9005\n",
            "Epoch 15/15\n",
            "1875/1875 [==============================] - 19s 10ms/step - loss: 0.1281 - accuracy: 0.9511 - val_loss: 0.3563 - val_accuracy: 0.8994\n"
          ],
          "name": "stdout"
        }
      ]
    },
    {
      "cell_type": "code",
      "metadata": {
        "id": "xPxc0Sfljw9o",
        "colab_type": "code",
        "outputId": "3c055a9b-1765-4fc5-dfff-523b36f4eafc",
        "colab": {
          "base_uri": "https://localhost:8080/",
          "height": 282
        }
      },
      "source": [
        "import matplotlib.pyplot as plt\n",
        "plt.plot(r.history['loss'], label='loss')\n",
        "plt.plot(r.history['val_loss'], label='val_loss')\n",
        "plt.legend()"
      ],
      "execution_count": 0,
      "outputs": [
        {
          "output_type": "execute_result",
          "data": {
            "text/plain": [
              "<matplotlib.legend.Legend at 0x7f9f68a053c8>"
            ]
          },
          "metadata": {
            "tags": []
          },
          "execution_count": 15
        },
        {
          "output_type": "display_data",
          "data": {
            "image/png": "[encoded data removed]",
            "text/plain": [
              "<Figure size 432x288 with 1 Axes>"
            ]
          },
          "metadata": {
            "tags": [],
            "needs_background": "light"
          }
        }
      ]
    },
    {
      "cell_type": "code",
      "metadata": {
        "id": "jVXbQL87kjOM",
        "colab_type": "code",
        "outputId": "e5488f78-627b-4d64-e9fe-9854b7cc2fba",
        "colab": {
          "base_uri": "https://localhost:8080/",
          "height": 282
        }
      },
      "source": [
        "plt.plot(r.history['accuracy'], label='acc')\n",
        "plt.plot(r.history['val_accuracy'], label='val_acc')\n",
        "plt.legend()"
      ],
      "execution_count": 0,
      "outputs": [
        {
          "output_type": "execute_result",
          "data": {
            "text/plain": [
              "<matplotlib.legend.Legend at 0x7f9f68a87128>"
            ]
          },
          "metadata": {
            "tags": []
          },
          "execution_count": 17
        },
        {
          "output_type": "display_data",
          "data": {
            "image/png": "[encoded data removed]",
            "text/plain": [
              "<Figure size 432x288 with 1 Axes>"
            ]
          },
          "metadata": {
            "tags": [],
            "needs_background": "light"
          }
        }
      ]
    },
    {
      "cell_type": "code",
      "metadata": {
        "id": "cqVWu70ulFE9",
        "colab_type": "code",
        "outputId": "b3086fc9-ace9-4c7a-eeab-3d34e7a3f3c8",
        "colab": {
          "base_uri": "https://localhost:8080/",
          "height": 496
        }
      },
      "source": [
        "from sklearn.metrics import confusion_matrix\n",
        "import itertools\n",
        "\n",
        "def plot_confusion_matrix(cm, classes,\n",
        "                          normalize=False,\n",
        "                          title='Confusion Matrix',\n",
        "                          cmap=plt.cm.Blues):\n",
        "  \"\"\"\n",
        "  This function prints and plots the confusion matrix.\n",
        "  Normalization can be applied by setting `normalize=True`.\n",
        "  \"\"\"\n",
        "  if normalize:\n",
        "    cm = cm.astype('float') / cm.sum(axis=1)[:, np.newaxis]\n",
        "    print('Confusion Matrix with normalization')\n",
        "  else:\n",
        "    print('Confusion Matrix, without normalization')\n",
        "\n",
        "  print(cm)\n",
        "\n",
        "  plt.imshow(cm, interpolation='nearest', cmap=cmap)\n",
        "  plt.title(title)\n",
        "  plt.colorbar()\n",
        "  tick_marks = np.arange(len(classes))\n",
        "  plt.xticks(tick_marks, classes, rotation=45)\n",
        "  plt.yticks(tick_marks, classes)\n",
        "\n",
        "  fmt = '.2f' if normalize else 'd'\n",
        "  thresh = cm.max() / 2\n",
        "  for i, j in itertools.product(range(cm.shape[0]), range(cm.shape[1])):\n",
        "      plt.text(j, i, format(cm[i, j], fmt),\n",
        "               horizontalalignment=\"center\",\n",
        "               color=\"white\" if cm[i, j] > thresh else \"black\")\n",
        "    \n",
        "  plt.tight_layout()\n",
        "  plt.ylabel('True label')\n",
        "  plt.xlabel('Predicted label')\n",
        "  plt.show()\n",
        "\n",
        "p_test = model.predict(x_test).argmax(axis=1)\n",
        "cm = confusion_matrix(y_test, p_test)\n",
        "plot_confusion_matrix(cm, list(range(10)))"
      ],
      "execution_count": 0,
      "outputs": [
        {
          "output_type": "stream",
          "text": [
            "Confusion Matrix, without normalization\n",
            "[[883   1  23  15   3   1  67   0   7   0]\n",
            " [  3 977   1  12   2   0   2   0   3   0]\n",
            " [ 25   0 862   9  47   0  55   0   2   0]\n",
            " [ 26  15  14 911  19   1  14   0   0   0]\n",
            " [  2   0  62  25 776   0 133   0   2   0]\n",
            " [  0   0   0   0   0 953   0  34   1  12]\n",
            " [119   3  60  29  54   0 729   0   6   0]\n",
            " [  0   0   0   0   0   6   0 978   0  16]\n",
            " [  3   2   2   3   4   1   6   2 976   1]\n",
            " [  1   0   0   0   0   5   0  45   0 949]]\n"
          ],
          "name": "stdout"
        },
        {
          "output_type": "display_data",
          "data": {
            "image/png": "[encoded data removed]",
            "text/plain": [
              "<Figure size 432x288 with 2 Axes>"
            ]
          },
          "metadata": {
            "tags": [],
            "needs_background": "light"
          }
        }
      ]
    },
    {
      "cell_type": "code",
      "metadata": {
        "id": "AB8d8g9PqfOh",
        "colab_type": "code",
        "colab": {}
      },
      "source": [
        "labels = '''T-shirt/top\n",
        "Trouser\n",
        "Pullover\n",
        "Dress\n",
        "Coat\n",
        "Sandal\n",
        "Shirt\n",
        "Sneaker\n",
        "Bag\n",
        "Ankle boot'''.split()"
      ],
      "execution_count": 0,
      "outputs": []
    },
    {
      "cell_type": "code",
      "metadata": {
        "id": "vav5nHJOrHBy",
        "colab_type": "code",
        "outputId": "7b12619b-dbc2-4b5d-a3b6-ddba3dff4346",
        "colab": {
          "base_uri": "https://localhost:8080/",
          "height": 281
        }
      },
      "source": [
        "misclassified_idx = np.where(p_test != y_test)[0]\n",
        "i = np.random.choice(misclassified_idx)\n",
        "plt.imshow(x_test[i].reshape(28,28), cmap='gray')\n",
        "plt.title(\"True label: %s Predicted: %s\" % (labels[y_test[i]], labels[p_test[i]]));"
      ],
      "execution_count": 0,
      "outputs": [
        {
          "output_type": "display_data",
          "data": {
            "image/png": "[encoded data removed]",
            "text/plain": [
              "<Figure size 432x288 with 1 Axes>"
            ]
          },
          "metadata": {
            "tags": [],
            "needs_background": "light"
          }
        }
      ]
    }
  ]
}